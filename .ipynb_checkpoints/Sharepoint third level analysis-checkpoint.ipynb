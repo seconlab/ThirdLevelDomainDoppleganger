{
 "cells": [
  {
   "cell_type": "markdown",
   "metadata": {},
   "source": [
    "# The goal is to look at the subdomains of the sharepoint.com domain."
   ]
  },
  {
   "cell_type": "markdown",
   "metadata": {},
   "source": [
    "Let's first get a list of all \\*-my.sharepoint.com third level domains:"
   ]
  },
  {
   "cell_type": "code",
   "execution_count": 68,
   "metadata": {},
   "outputs": [
    {
     "name": "stdout",
     "output_type": "stream",
     "text": [
      "76737 files grepped in  93.0180 seconds\n"
     ]
    }
   ],
   "source": [
    "import tldextract as tlde\n",
    "import csv\n",
    "import re\n",
    "import time\n",
    "\n",
    "tic = time.perf_counter()\n",
    "#the $ in the grep string signifies the EOL, so we don't pick up anything like .com.us.cas.ms\n",
    "allsharepoint = !grep -i \"\\.sharepoint\\.com$\" /mnt/d/2020-09-25-1600992617-fdns_any_domains_with_tld\n",
    "toc = time.perf_counter()\n",
    "\n",
    "print(f\"{len(allsharepoint)} domain names grepped from passive dns domain list in  {toc - tic:0.4f} seconds\")\n",
    "#76737 files grepped in  91.4702 seconds\n",
    "    "
   ]
  },
  {
   "cell_type": "code",
   "execution_count": 66,
   "metadata": {},
   "outputs": [
    {
     "name": "stdout",
     "output_type": "stream",
     "text": [
      "Number of domains with -my:  21078\n",
      "Not matched:  cscportal-my\n",
      "Number of matching domains without the -my:  21077\n"
     ]
    }
   ],
   "source": [
    "my_domains = []\n",
    "\n",
    "expression = \"-my$\"\n",
    "\n",
    "for domain in allsharepoint:\n",
    "    ext = tlde.extract(domain)\n",
    "    if re.search(expression, ext.subdomain):\n",
    "        my_domains.append(ext.subdomain)\n",
    "        \n",
    "        #my_domains_without_the_my.append(ext.domain[0:len(ext.domain)-3])\n",
    "print(\"Number of domains with -my: \", len(my_domains))\n",
    "\n",
    "my_domains_without_the_my = []\n",
    "\n",
    "for d in my_domains:\n",
    "    withoutMy = d[0:len(d)-3]\n",
    "    findThis = withoutMy + \".sharepoint.com\"\n",
    "    #print(\"finding: \", findThis)\n",
    "    \n",
    "    found = False\n",
    "    for domain in allsharepoint:\n",
    "        if domain == findThis:\n",
    "            #print(\"               FOUND\", d, domain, findThis)\n",
    "            if not withoutMy in my_domains_without_the_my: \n",
    "                my_domains_without_the_my.append(withoutMy)\n",
    "                found = True\n",
    "            break\n",
    "    if not found:\n",
    "        print(\"Not matched: \", d)\n",
    "            \n",
    "print(\"Number of matching domains without the -my: \", len(my_domains_without_the_my))"
   ]
  },
  {
   "cell_type": "markdown",
   "metadata": {},
   "source": [
    "# Did Burisma domain really exist?"
   ]
  },
  {
   "cell_type": "code",
   "execution_count": 67,
   "metadata": {},
   "outputs": [
    {
     "name": "stdout",
     "output_type": "stream",
     "text": [
      "No.\n"
     ]
    }
   ],
   "source": [
    "#is burisma in here?\n",
    "found = False\n",
    "for domain in allsharepoint:\n",
    "    if domain == \"cubenergy-my.sharepoint.com\" or domain == \"cubenergy.sharepoint.com\":\n",
    "        found = True\n",
    "        break\n",
    "        \n",
    "if found:\n",
    "    print(\"Yes!\")\n",
    "else:\n",
    "    print(\"No.\")\n"
   ]
  },
  {
   "cell_type": "markdown",
   "metadata": {},
   "source": [
    "For each of the -my sharepoint domains we just found, lets see if we can find the - version in the list of all domain names.\n",
    "\n",
    "[http://localhost:8888/notebooks/Lock%20step%20search%20C%23.ipynb#] Lock Step Search\n"
   ]
  },
  {
   "cell_type": "code",
   "execution_count": null,
   "metadata": {},
   "outputs": [],
   "source": [
    "import tempfile\n",
    "\n",
    "fp = tempfile.TemporaryFile()\n",
    "for d in my\n",
    "fp.write(b'Hello world!')"
   ]
  }
 ],
 "metadata": {
  "kernelspec": {
   "display_name": "Python 3",
   "language": "python",
   "name": "python3"
  },
  "language_info": {
   "codemirror_mode": {
    "name": "ipython",
    "version": 3
   },
   "file_extension": ".py",
   "mimetype": "text/x-python",
   "name": "python",
   "nbconvert_exporter": "python",
   "pygments_lexer": "ipython3",
   "version": "3.6.9"
  }
 },
 "nbformat": 4,
 "nbformat_minor": 4
}
