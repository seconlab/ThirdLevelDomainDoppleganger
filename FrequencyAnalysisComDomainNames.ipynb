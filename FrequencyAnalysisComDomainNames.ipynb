{
 "cells": [
  {
   "cell_type": "markdown",
   "metadata": {},
   "source": [
    "# Frequency Analysis of .COM Domain Names"
   ]
  },
  {
   "cell_type": "markdown",
   "metadata": {},
   "source": [
    "Question: What are the most common delimieters used for domain names?  \n",
    "* (no delimiter most popular?\n",
    "* - dash\n",
    "* _ underscore\n",
    "* -my- my in between two dashes.\n",
    "       "
   ]
  },
  {
   "cell_type": "markdown",
   "metadata": {},
   "source": [
    "How do we find out what the most common delimiters are? Look for most common set of characters used in .com domain names.\n",
    "\n",
    "* 4 characters would help us find \"-my-\" used in burisma.\n",
    "* 1 character would hopefully find that - is the most common used after alpha characters.\n",
    "* 2 and 3 would reveal interesting patters....maybe www in domain names? ssl? the? ww? oo?\n"
   ]
  },
  {
   "cell_type": "markdown",
   "metadata": {},
   "source": [
    "TH , ER , ON , and AN most popular in english language\n",
    "Frequency Analysis\n",
    "http://practicalcryptography.com/cryptanalysis/letter-frequencies-various-languages/english-letter-frequencies/\n",
    "\n",
    "Frequency analysis of .com domain names\n"
   ]
  },
  {
   "cell_type": "markdown",
   "metadata": {},
   "source": [
    "I was going down the path of looking at string length differences between the paired domain names and the 2nd and 3rd level, and ideally, a good measure would be the distance of the two complete instances excluding any delimiters.  So, for www and domain, wwwdomain.com and www-domain.com should be considered equally suspicious, because when you exclude the delimiter in the comparison, both are zero.  This is important because in order to find a match for the burisma case, the delimiter used is \"-my-\".  But, how does an algorithm know that \"-my-\" is a delimiter. My first thought is to do a frequency analysis of the quadgrams for all .com domain names, and then see where they differ from English language.  \n",
    "In researching, I did come across this paper, which is on the same line of questioning that I am on:  \n",
    "https://www.hindawi.com/journals/jcnc/2019/4612474/#experimental-and-result-analysis\n",
    "\n",
    "There has been some other related work with frequency count of domain names to detect malicious command and control domains as well:  https://www.researchgate.net/publication/325714929_Detection_of_Algorithmically_Generated_Malicious_Domain\n",
    "\n",
    "I'm going to do a frequency count of domain names, starting with maybe 4 or 5 characters and see what I come up with.  If I'm correct, the \"-my-\" should be high in the list of most popular quadgrams.  for the trigrams, it will be interesting to see where www ends up.  For the monograms, I expect to see dash be the most frequent non alpha character used.  I'm curious to see if it beats out numbers.\n"
   ]
  },
  {
   "cell_type": "code",
   "execution_count": null,
   "metadata": {},
   "outputs": [],
   "source": [
    "import io\n",
    "import tldextract as tlde\n",
    "\n",
    "bigCOMZoneFile = '/mnt/d/flat_domain_all_unique_sorted'\n",
    "\n",
    "bigFile = open(bigCOMZoneFile)\n",
    "characterCount = {}\n",
    "stringLength = 4\n",
    "\n",
    "count = 0\n",
    "\n",
    "row = bigFile.readline()\n",
    "while row:\n",
    "    ext = tlde.extract(row.lower())\n",
    "    #print(ext.domain)\n",
    "    if (len(ext.domain) >= stringLength):\n",
    "        numSets = len(ext.domain) - (stringLength + 1)\n",
    "        currentSet = 0\n",
    "        while currentSet < numSets:\n",
    "            #print(currentSet, stringLength)\n",
    "            #print(ext.domain[int(currentSet):int(stringLength + currentSet)])\n",
    "            found = characterCount.get(ext.domain[currentSet:stringLength + currentSet])\n",
    "            if found:\n",
    "                characterCount[ext.domain[currentSet:stringLength + currentSet]] = characterCount[ext.domain[currentSet:stringLength + currentSet]] + 1\n",
    "            else:\n",
    "                characterCount[ext.domain[currentSet:stringLength + currentSet]] = 1\n",
    "                count = count + 1\n",
    "\n",
    "            currentSet = currentSet + 1\n",
    "        #print(ext.domain)\n",
    "    row = bigFile.readline()\n",
    "    if count >= 10000000:\n",
    "        break\n",
    "\n",
    "#for x in characterCount:\n",
    "#    print(x, characterCount[x])\n",
    "\n",
    "count = 0\n",
    "for w in sorted(characterCount, key=characterCount.get, reverse=True):\n",
    "    if count < 1000:\n",
    "        print(w, characterCount[w])\n",
    "        count = count + 1"
   ]
  },
  {
   "cell_type": "markdown",
   "metadata": {},
   "source": [
    "461951,ota,tinno,howtotalktoyourkidsaboutinnovation.com  Totally not a match....\n"
   ]
  },
  {
   "cell_type": "code",
   "execution_count": null,
   "metadata": {},
   "outputs": [],
   "source": []
  }
 ],
 "metadata": {
  "kernelspec": {
   "display_name": "Python 3",
   "language": "python",
   "name": "python3"
  },
  "language_info": {
   "codemirror_mode": {
    "name": "ipython",
    "version": 3
   },
   "file_extension": ".py",
   "mimetype": "text/x-python",
   "name": "python",
   "nbconvert_exporter": "python",
   "pygments_lexer": "ipython3",
   "version": "3.6.9"
  }
 },
 "nbformat": 4,
 "nbformat_minor": 4
}
