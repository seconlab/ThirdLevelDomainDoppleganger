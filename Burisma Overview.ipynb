{
 "cells": [
  {
   "cell_type": "markdown",
   "metadata": {},
   "source": [
    "# From Burisma Phishing Brief\n",
    "\n",
    "https://cdn.area1security.com/reports/Area-1-Security-PhishingBurismaHoldings.pdf"
   ]
  },
  {
   "cell_type": "markdown",
   "metadata": {},
   "source": [
    "![test](https://github.com/seconlab/ThirdLevelDomainDoppleganger/blob/main/images/burisma_table.PNG?raw=true)"
   ]
  },
  {
   "cell_type": "markdown",
   "metadata": {
    "raw_mimetype": "text/html"
   },
   "source": [
    "For the first two rows, we are doing no research.\n",
    "\n",
    "For the third row, we covered this pattern (replacing i's with l's) in the VIDN paper\n",
    "\n",
    "For the fourth row, that is the current line of investigation, the **Third Level Doppleganger** domain attack"
   ]
  },
  {
   "cell_type": "code",
   "execution_count": null,
   "metadata": {},
   "outputs": [],
   "source": []
  }
 ],
 "metadata": {
  "celltoolbar": "Raw Cell Format",
  "kernelspec": {
   "display_name": "Python 3",
   "language": "python",
   "name": "python3"
  },
  "language_info": {
   "codemirror_mode": {
    "name": "ipython",
    "version": 3
   },
   "file_extension": ".py",
   "mimetype": "text/x-python",
   "name": "python",
   "nbconvert_exporter": "python",
   "pygments_lexer": "ipython3",
   "version": "3.6.9"
  }
 },
 "nbformat": 4,
 "nbformat_minor": 4
}
