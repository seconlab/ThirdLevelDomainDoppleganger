{
 "cells": [
  {
   "cell_type": "markdown",
   "metadata": {},
   "source": [
    "# From Burisma Phishing Brief\n",
    "\n",
    "https://cdn.area1security.com/reports/Area-1-Security-PhishingBurismaHoldings.pdf"
   ]
  },
  {
   "cell_type": "markdown",
   "metadata": {},
   "source": [
    "![Burisma Attack Domain Table](https://github.com/seconlab/ThirdLevelDomainDoppleganger/blob/main/images/burisma_table.PNG?raw=true)"
   ]
  },
  {
   "cell_type": "markdown",
   "metadata": {
    "raw_mimetype": "text/html"
   },
   "source": [
    "For the first two rows, we are doing no research.\n",
    "\n",
    "For the third row, we covered this pattern (replacing i's with l's) in the VIDN paper\n",
    "\n",
    "For the fourth row, that is the current line of investigation, the **Third Level Doppleganger** domain attack"
   ]
  },
  {
   "cell_type": "markdown",
   "metadata": {},
   "source": [
    "### Originally, this was the view I had of the attack domain"
   ]
  },
  {
   "cell_type": "markdown",
   "metadata": {},
   "source": [
    "![Burisma URL Diagram](https://github.com/seconlab/ThirdLevelDomainDoppleganger/blob/main/images/url_diagram.PNG?raw=true)"
   ]
  },
  {
   "cell_type": "markdown",
   "metadata": {},
   "source": [
    "## Once talking it over with Dr. Moore, an alternative viewpoint is this...treating the cubenergy-my as the 3rd level name being attacked."
   ]
  },
  {
   "cell_type": "markdown",
   "metadata": {},
   "source": [
    "![Burisma Attack Domain Table](https://github.com/seconlab/ThirdLevelDomainDoppleganger/blob/main/images/updated_burisma_table.PNG?raw=true)"
   ]
  }
 ],
 "metadata": {
  "celltoolbar": "Raw Cell Format",
  "kernelspec": {
   "display_name": "Python 3",
   "language": "python",
   "name": "python3"
  },
  "language_info": {
   "codemirror_mode": {
    "name": "ipython",
    "version": 3
   },
   "file_extension": ".py",
   "mimetype": "text/x-python",
   "name": "python",
   "nbconvert_exporter": "python",
   "pygments_lexer": "ipython3",
   "version": "3.6.9"
  }
 },
 "nbformat": 4,
 "nbformat_minor": 4
}
