{
 "cells": [
  {
   "cell_type": "markdown",
   "metadata": {
    "slideshow": {
     "slide_type": "slide"
    }
   },
   "source": [
    "# PUTTING 3rd LEVEL KNOWN DATA INTO DATABASE:\n",
    "\n",
    "Uses **matched_2ndlevel.csv** and checks for match on **[DomainResearch].dbo.orbisData**, and then inserts the data into **[DomainResearch].dbo.thirdLevelOrbis** table"
   ]
  },
  {
   "cell_type": "code",
   "execution_count": null,
   "metadata": {},
   "outputs": [],
   "source": [
    "import io\n",
    "import subprocess\n",
    "import pyodbc\n",
    "import tldextract as tlde\n",
    "import csv\n",
    "\n",
    "cnxn = pyodbc.connect('DRIVER={ODBC Driver 17 for SQL Server};SERVER=localhost;DATABASE=DomainResearch;UID=dr;PWD=dr2020')\n",
    "sql = \"select * from orbisData\"\n",
    "cursor = cnxn.cursor()\n",
    "cursor.execute(sql)\n",
    "\n",
    "#NOTE:  I HAVE THIS DISABLED IN THE JUPYTER NOTEBOOK BECAUSE IT CAN TAKE A LONG TIME TO RUN....\n",
    "#       It works, it just is probably better to run in a terminal to keep an eye on it.\n",
    "#\n",
    "#  comment out the following line to run it for realz\n",
    "assert(False)\n",
    "\n",
    "orbisData = {}\n",
    "\n",
    "while True:\n",
    "    row = cursor.fetchone()\n",
    "    if not row:\n",
    "        break\n",
    "    orbisData[row[4]] = row[0] #map the domain name to the id in the table\n",
    "    #print(row[4], orbisData[row[4]])\n",
    "\n",
    "with open('matched_2ndlevel.csv') as csvfile:\n",
    "    readCSV = csv.reader(csvfile, delimiter=',')\n",
    "\n",
    "    for row in readCSV:\n",
    "        found = orbisData.get(row[0] + \".\" + row[1])\n",
    "        if found and (len(row[2]) > 0) and (\".\" not in row[2]):\n",
    "            #print(orbisData[row[0] +:w \".\" + row[1]])\n",
    "            #put it into the database\n",
    "            insertsql = \"insert into thirdLevelOrbis (thirdlevel, orbisDataId) values ('\" + row[2] + \"', \" + str(found) + \")\"\n",
    "            cnxn.cursor().execute(insertsql)\n",
    "            cnxn.cursor().commit()\n",
    "                      \n",
    "#closing conn1Gection  \n",
    "cnxn.close()\n"
   ]
  }
 ],
 "metadata": {
  "celltoolbar": "Tags",
  "kernelspec": {
   "display_name": "Python 3",
   "language": "python",
   "name": "python3"
  },
  "language_info": {
   "codemirror_mode": {
    "name": "ipython",
    "version": 3
   },
   "file_extension": ".py",
   "mimetype": "text/x-python",
   "name": "python",
   "nbconvert_exporter": "python",
   "pygments_lexer": "ipython3",
   "version": "3.6.9"
  }
 },
 "nbformat": 4,
 "nbformat_minor": 4
}
