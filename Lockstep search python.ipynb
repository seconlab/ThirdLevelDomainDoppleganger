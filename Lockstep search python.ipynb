{
 "cells": [
  {
   "cell_type": "code",
   "execution_count": 2,
   "metadata": {},
   "outputs": [],
   "source": []
  },
  {
   "cell_type": "code",
   "execution_count": 16,
   "metadata": {},
   "outputs": [
    {
     "name": "stdout",
     "output_type": "stream",
     "text": [
      "5000000 aaon.com \n",
      "10000000 aaon.com \n",
      "Found Match:  aaon.com\n",
      "15000000 spikedmace.com \n",
      "20000000 spikedmace.com \n"
     ]
    },
    {
     "ename": "KeyboardInterrupt",
     "evalue": "",
     "output_type": "error",
     "traceback": [
      "\u001b[0;31m---------------------------------------------------------------------------\u001b[0m",
      "\u001b[0;31mKeyboardInterrupt\u001b[0m                         Traceback (most recent call last)",
      "\u001b[0;32m<ipython-input-16-b860b8dbf058>\u001b[0m in \u001b[0;36m<module>\u001b[0;34m\u001b[0m\n\u001b[1;32m     45\u001b[0m     \u001b[0;31m#compareValue = ci.Compare(leftDomain, rightDomain, myOptions);\u001b[0m\u001b[0;34m\u001b[0m\u001b[0;34m\u001b[0m\u001b[0;34m\u001b[0m\u001b[0m\n\u001b[1;32m     46\u001b[0m     \u001b[0misequal\u001b[0m \u001b[0;34m=\u001b[0m \u001b[0;34m(\u001b[0m\u001b[0mleftDomain\u001b[0m \u001b[0;34m==\u001b[0m \u001b[0mrightDomain\u001b[0m\u001b[0;34m)\u001b[0m\u001b[0;34m\u001b[0m\u001b[0;34m\u001b[0m\u001b[0m\n\u001b[0;32m---> 47\u001b[0;31m     \u001b[0mrightGreater\u001b[0m \u001b[0;34m=\u001b[0m \u001b[0;34m(\u001b[0m\u001b[0mrightDomain\u001b[0m \u001b[0;34m>\u001b[0m \u001b[0mleftDomain\u001b[0m\u001b[0;34m)\u001b[0m\u001b[0;34m\u001b[0m\u001b[0;34m\u001b[0m\u001b[0m\n\u001b[0m\u001b[1;32m     48\u001b[0m \u001b[0;34m\u001b[0m\u001b[0m\n\u001b[1;32m     49\u001b[0m     \u001b[0;32mif\u001b[0m \u001b[0misequal\u001b[0m\u001b[0;34m:\u001b[0m\u001b[0;34m\u001b[0m\u001b[0;34m\u001b[0m\u001b[0m\n",
      "\u001b[0;31mKeyboardInterrupt\u001b[0m: "
     ]
    }
   ],
   "source": [
    "#these variables should be set for this to run\n",
    "leftFile = open('/mnt/d/test2.csv', 'r')\n",
    "rightFile = open('/mnt/d/flat_domain_all_unique_sorted', 'r')\n",
    "\n",
    "outFile = open('/mnt/d/out.csv', 'w+t')\n",
    "!cat {outFile.name}\n",
    "\n",
    "import os\n",
    "import locale\n",
    "os.environ[\"LC_ALL\"] = \"en_US.UTF-8\"\n",
    "locale.setlocale(locale.LC_ALL, \"en_US.UTF-8\")\n",
    "\n",
    "import time\n",
    "\n",
    "tic = time.perf_counter()\n",
    "\n",
    "if (not leftFile or not rightFile):\n",
    "    assert(False)\n",
    "\n",
    "leftDomain = \"\"#  //delcare the variable once.\n",
    "rightDomain = \"\"\n",
    "\n",
    "compareValue = 0\n",
    "\n",
    "#System.Globalization.CompareOptions myOptions = System.Globalization.CompareOptions.StringSort;\n",
    "#System.Globalization.CompareInfo ci = System.Globalization.CompareInfo.GetCompareInfo(\"en-US\");\n",
    "count = 0\n",
    "while leftFile and rightFile:\n",
    "    #if we reach the end of the rightFile first, we have a problem....that shouldn't happen\n",
    "    if not rightFile:\n",
    "        print(\"reached end of right file.  This should not happen\")\n",
    "        assert(False)\n",
    "\n",
    "    if leftDomain == \"\":\n",
    "        leftDomain = leftFile.readline().lower().strip('\\n')\n",
    "        if leftDomain is None or leftDomain == \"\":\n",
    "            break\n",
    "\n",
    "    if rightDomain == \"\":\n",
    "        rightDomain = rightFile.readline().lower().strip('\\n')\n",
    "        count = count + 1\n",
    "        if rightDomain is None or rightDomain == \"\":\n",
    "            break\n",
    "\n",
    "    #compareValue = ci.Compare(leftDomain, rightDomain, myOptions);\n",
    "    isequal = (leftDomain == rightDomain)\n",
    "    rightGreater = (rightDomain > leftDomain)\n",
    "    \n",
    "    if isequal:\n",
    "        outFile.write(leftDomain)\n",
    "        outFile.write(\"\\n\")\n",
    "        outFile.flush()\n",
    "        print(\"Found Match: \", leftDomain)\n",
    "        #clear the right, since there may be more instances on the right\n",
    "        rightDomain = \"\"\n",
    "    elif rightGreater:\n",
    "        leftDomain = \"\"\n",
    "    else:\n",
    "        rightDomain = \"\"\n",
    "        \n",
    "    if count % 5000000 == 0:\n",
    "        print(count, leftDomain, rightDomain)\n",
    "        \n",
    "!cat {outFile.name}\n",
    "\n",
    "outFile.close()\n",
    "leftFile.close()\n",
    "rightFile.close()\n",
    "\n",
    "toc = time.perf_counter()\n",
    "\n",
    "print(f\"Lockstep search took {toc - tic:0.4f} seconds\")"
   ]
  },
  {
   "cell_type": "code",
   "execution_count": null,
   "metadata": {},
   "outputs": [],
   "source": []
  }
 ],
 "metadata": {
  "kernelspec": {
   "display_name": "Python 3",
   "language": "python",
   "name": "python3"
  },
  "language_info": {
   "codemirror_mode": {
    "name": "ipython",
    "version": 3
   },
   "file_extension": ".py",
   "mimetype": "text/x-python",
   "name": "python",
   "nbconvert_exporter": "python",
   "pygments_lexer": "ipython3",
   "version": "3.6.9"
  }
 },
 "nbformat": 4,
 "nbformat_minor": 4
}
